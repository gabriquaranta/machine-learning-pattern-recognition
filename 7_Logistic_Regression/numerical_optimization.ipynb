{
 "cells": [
  {
   "attachments": {},
   "cell_type": "markdown",
   "metadata": {},
   "source": [
    "# NUMERICAL OPTIMIZATION"
   ]
  },
  {
   "attachments": {},
   "cell_type": "markdown",
   "metadata": {},
   "source": [
    "Using the numerical solver, find the minimum of\n",
    "$$f(y,z) = (y + 3)^2 + sin(y) + (z + 1)^2$$\n",
    "The function is convex, so it has a unique minimum."
   ]
  },
  {
   "attachments": {},
   "cell_type": "markdown",
   "metadata": {},
   "source": [
    "STEP 1: Implement f. The sin function can be computed using numpy.sin . f should accept a\n",
    "1-D numpy array x of shape (2,). The first component corresponds to variable y, while the second\n",
    "corresponds to variable z. The function f should return the value f(y,z)."
   ]
  },
  {
   "cell_type": "code",
   "execution_count": 14,
   "metadata": {},
   "outputs": [],
   "source": [
    "import numpy as np\n",
    "from scipy.optimize import fmin_l_bfgs_b\n",
    "\n",
    "def f(x):\n",
    "    y = x[0]\n",
    "    z = x[1]\n",
    "    return (y + 3)**2 + np.sin(y) + (z + 1)**2\n",
    "\n"
   ]
  },
  {
   "attachments": {},
   "cell_type": "markdown",
   "metadata": {},
   "source": [
    "STEP 2: Call the numerical optimization function scipy.optimize.fmin_l_bfgs_b . \n",
    "Pass to the function the previously implemented f , and approx_grad = True . \n",
    "As starting point you can use\n",
    "values [0,0] (pass a numpy array, not a list). \n",
    "If you pass the optional argument iprint = 1 you can visualize the iterations of the algorithm.\n",
    "\n",
    "scipy.optimize.fmin_l_bfgs_b returns a tuple with three values x, f, d:\n",
    "- x is the estimated position of the minimum\n",
    "- f is the objective value at the minimum\n",
    "- d contains additional information (check the documentation)\n",
    "\n",
    "You should find the minimum at [-2.57747138, -0.99999927], with value (truncated) -0.356143012"
   ]
  },
  {
   "cell_type": "code",
   "execution_count": 15,
   "metadata": {},
   "outputs": [
    {
     "name": "stdout",
     "output_type": "stream",
     "text": [
      "Minimum point: [-2.57747138 -0.99999927]\n",
      "Minimum value: -0.3561430123647649\n",
      "Details -> funcalls: 21\n"
     ]
    }
   ],
   "source": [
    "# Initial point\n",
    "x0 = np.array([0, 0])\n",
    "\n",
    "# Call the optimization function\n",
    "result = fmin_l_bfgs_b(f, x0, approx_grad=True)\n",
    "\n",
    "# Extract the minimum point and function value\n",
    "min_point = result[0]\n",
    "min_value = result[1]\n",
    "details = result[2]\n",
    "\n",
    "print(\"Minimum point:\", min_point)\n",
    "print(\"Minimum value:\", min_value)\n",
    "print(\"Details -> funcalls:\", details[\"funcalls\"])\n"
   ]
  },
  {
   "attachments": {},
   "cell_type": "markdown",
   "metadata": {},
   "source": [
    "Rewrite function f so that it returns f(x) as well the gradient of f as a numpy array with shape\n",
    "(2,). Call again the solver, but do not pass approx_grad ."
   ]
  },
  {
   "cell_type": "code",
   "execution_count": 16,
   "metadata": {},
   "outputs": [
    {
     "name": "stdout",
     "output_type": "stream",
     "text": [
      "Minimum point: [-2.57747137 -0.99999927]\n",
      "Minimum value: -0.3561430123647611\n",
      "Details -> funcalls: 7\n"
     ]
    }
   ],
   "source": [
    "def f_grad(x):\n",
    "    \"\"\"\n",
    "    updated implementation, f(x) returns a tuple (value, gradient). The value is\n",
    "    calculated as before, while the gradient is computed using the partial\n",
    "    derivatives of f with respect to y and z. The gradient is returned as a numpy\n",
    "    array of shape (2,).\n",
    "    \"\"\"\n",
    "    y = x[0]\n",
    "    z = x[1]\n",
    "    value = (y + 3)**2 + np.sin(y) + (z + 1)**2\n",
    "    gradient = np.array([2*(y + 3) + np.cos(y), 2*(z + 1)])\n",
    "    return value, gradient\n",
    "\n",
    "# Initial point\n",
    "x0 = np.array([0, 0])\n",
    "\n",
    "# Call the optimization function\n",
    "result = fmin_l_bfgs_b(f_grad, x0, approx_grad=False)\n",
    "\n",
    "# Extract the minimum point and function value\n",
    "min_point = result[0]\n",
    "min_value = result[1]\n",
    "details = result[2]\n",
    "\n",
    "print(\"Minimum point:\", min_point)\n",
    "print(\"Minimum value:\", min_value)\n",
    "print(\"Details -> funcalls:\", details[\"funcalls\"])"
   ]
  },
  {
   "attachments": {},
   "cell_type": "markdown",
   "metadata": {},
   "source": [
    "In this case the numerical approximation was good enough. However, check the\n",
    "values of the third returned value d in the two cases. ’funcalls’ provides the number of times f\n",
    "was called. The numerical approximation of the gradient is significantly more expensive, and the cost\n",
    "becomes relatively worse when the dimensionality of the domain of f increases."
   ]
  }
 ],
 "metadata": {
  "kernelspec": {
   "display_name": ".envMLPR",
   "language": "python",
   "name": "python3"
  },
  "language_info": {
   "codemirror_mode": {
    "name": "ipython",
    "version": 3
   },
   "file_extension": ".py",
   "mimetype": "text/x-python",
   "name": "python",
   "nbconvert_exporter": "python",
   "pygments_lexer": "ipython3",
   "version": "3.10.6"
  },
  "orig_nbformat": 4
 },
 "nbformat": 4,
 "nbformat_minor": 2
}
