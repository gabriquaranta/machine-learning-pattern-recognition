{
 "cells": [
  {
   "attachments": {},
   "cell_type": "markdown",
   "metadata": {},
   "source": [
    "# LAB 5\n",
    "In the first part of this laboratory we will solve the IRIS classification task using Gaussian classifiers."
   ]
  },
  {
   "cell_type": "code",
   "execution_count": 78,
   "metadata": {},
   "outputs": [],
   "source": [
    "import sklearn.datasets\n",
    "import numpy as np\n",
    "import matplotlib as plt"
   ]
  },
  {
   "cell_type": "code",
   "execution_count": 79,
   "metadata": {},
   "outputs": [],
   "source": [
    "D = sklearn.datasets.load_iris()[\"data\"].T\n",
    "L = sklearn.datasets.load_iris()[\"target\"]\n"
   ]
  },
  {
   "attachments": {},
   "cell_type": "markdown",
   "metadata": {},
   "source": [
    "In the following examples we use the dataset as returned by the aforementioned load_iris. \n",
    "We split the datasets in two parts: \n",
    "- the first part will be used for model training \n",
    "- the second for evaluation (validation set).\n",
    "\n",
    "We use 100 samples for training and 50 samples for evaluation."
   ]
  },
  {
   "cell_type": "code",
   "execution_count": 80,
   "metadata": {},
   "outputs": [],
   "source": [
    "seed = 0\n",
    "nTrain = int(D.shape[1] * 2.0 / 3.0)\n",
    "np.random.seed(seed)\n",
    "idx = np.random.permutation(D.shape[1])\n",
    "\n",
    "idxTrain = idx[0:nTrain]\n",
    "idxTest = idx[nTrain:]\n",
    "\n",
    "# DTR and LTR are training data and labels\n",
    "DTR = D[:, idxTrain]\n",
    "LTR = L[idxTrain]\n",
    "# DTE and LTE are evaluation data and labels\n",
    "DTE = D[:, idxTest]\n",
    "LTE = L[idxTest]\n",
    "\n",
    "# print(DTR.shape,LTR.shape)\n"
   ]
  },
  {
   "attachments": {},
   "cell_type": "markdown",
   "metadata": {},
   "source": [
    "# Multivariate Gaussian Classifier\n",
    "The first model we implement is the Multivariate Gaussian Classifier (MVG). \n",
    "\n",
    "As we have seen, the classifier assumes that samples of each class c ∈ {0,1,2} can be modeled as samples of a multivariate Gaussian distribution with class-dependent mean and covariance matrices :\n",
    "\n",
    "$$ f_{X|C}=N(x|\\mu _c,C_c) $$\n",
    "The ML solution for the parameters is given by the empirical mean and covariance matrix of each class:\n",
    "$$ \\mu^{*} _c=\\frac{1}{N}\\sum_i{x_i} $$ \n",
    "$$ C^{*}_c=\\frac{1}{N_c}\\sum_i{(x_{c,i}-\\mu^{*}_{c})(x_{c,i}-\\mu^{*}_{c})^T} $$"
   ]
  },
  {
   "attachments": {},
   "cell_type": "markdown",
   "metadata": {},
   "source": [
    "Compute the ML estimates for the classifier parameters $(μ_0,Σ_0)$, $(μ_1,Σ_1)$, $(μ_2,Σ_2)$:"
   ]
  },
  {
   "cell_type": "code",
   "execution_count": 82,
   "metadata": {},
   "outputs": [
    {
     "name": "stdout",
     "output_type": "stream",
     "text": [
      "[[4.96129032]\n",
      " [3.42903226]\n",
      " [1.46451613]\n",
      " [0.2483871 ]]\n",
      "[[5.91212121]\n",
      " [2.78484848]\n",
      " [4.27272727]\n",
      " [1.33939394]]\n",
      "[[6.45555556]\n",
      " [2.92777778]\n",
      " [5.41944444]\n",
      " [1.98888889]]\n",
      "\n",
      "[[0.13140479 0.11370447 0.02862643 0.01187305]\n",
      " [0.11370447 0.16270552 0.01844953 0.01117586]\n",
      " [0.02862643 0.01844953 0.03583767 0.00526535]\n",
      " [0.01187305 0.01117586 0.00526535 0.0108845 ]]\n",
      "[[0.26470156 0.09169881 0.18366391 0.05134068]\n",
      " [0.09169881 0.10613407 0.08898072 0.04211203]\n",
      " [0.18366391 0.08898072 0.21955923 0.06289256]\n",
      " [0.05134068 0.04211203 0.06289256 0.03208448]]\n",
      "[[0.30080247 0.08262346 0.18614198 0.04311728]\n",
      " [0.08262346 0.08533951 0.06279321 0.05114198]\n",
      " [0.18614198 0.06279321 0.18434414 0.04188272]\n",
      " [0.04311728 0.05114198 0.04188272 0.0804321 ]]\n"
     ]
    }
   ],
   "source": [
    "# dividing by class\n",
    "DTR0 = DTR[:, LTR == 0]\n",
    "DTR1 = DTR[:, LTR == 1]\n",
    "DTR2 = DTR[:, LTR == 2]\n",
    "\n",
    "# mean for each class\n",
    "mu0 = DTR0.mean(1).reshape(4, 1)\n",
    "mu1 = DTR1.mean(1).reshape(4, 1)\n",
    "mu2 = DTR2.mean(1).reshape(4, 1)\n",
    "\n",
    "# centering data\n",
    "DTR0cent = DTR0 - mu0\n",
    "DTR1cent = DTR1 - mu1\n",
    "DTR2cent = DTR2 - mu2\n",
    "\n",
    "# covariance for each class\n",
    "C0 = np.dot(DTR0cent, DTR0cent.T) / float(DTR0cent.shape[1])\n",
    "C1 = np.dot(DTR1cent, DTR1cent.T) / float(DTR1cent.shape[1])\n",
    "C2 = np.dot(DTR2cent, DTR2cent.T) / float(DTR2cent.shape[1])\n",
    "\n",
    "print(mu0)\n",
    "print(mu1)\n",
    "print(mu2)\n",
    "print()\n",
    "print(C0)\n",
    "print(C1)\n",
    "print(C2)\n"
   ]
  }
 ],
 "metadata": {
  "kernelspec": {
   "display_name": ".envMLPR",
   "language": "python",
   "name": "python3"
  },
  "language_info": {
   "codemirror_mode": {
    "name": "ipython",
    "version": 3
   },
   "file_extension": ".py",
   "mimetype": "text/x-python",
   "name": "python",
   "nbconvert_exporter": "python",
   "pygments_lexer": "ipython3",
   "version": "3.10.6"
  },
  "orig_nbformat": 4
 },
 "nbformat": 4,
 "nbformat_minor": 2
}
