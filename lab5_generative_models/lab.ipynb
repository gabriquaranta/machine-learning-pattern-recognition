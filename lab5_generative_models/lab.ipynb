{
 "cells": [
  {
   "attachments": {},
   "cell_type": "markdown",
   "metadata": {},
   "source": [
    "# LAB 5\n",
    "In the first part of this laboratory we will solve the IRIS classification task using Gaussian classifiers."
   ]
  },
  {
   "cell_type": "code",
   "execution_count": 17,
   "metadata": {},
   "outputs": [],
   "source": [
    "import sklearn.datasets\n",
    "import numpy as np\n",
    "import matplotlib as plt"
   ]
  },
  {
   "cell_type": "code",
   "execution_count": 18,
   "metadata": {},
   "outputs": [],
   "source": [
    "D = sklearn.datasets.load_iris()[\"data\"].T\n",
    "L = sklearn.datasets.load_iris()[\"target\"]\n"
   ]
  },
  {
   "attachments": {},
   "cell_type": "markdown",
   "metadata": {},
   "source": [
    "In the following examples we use the dataset as returned by the aforementioned load_iris. \n",
    "We split the datasets in two parts: \n",
    "- the first part will be used for model training \n",
    "- the second for evaluation (validation set).\n",
    "\n",
    "We use 100 samples for training and 50 samples for evaluation."
   ]
  },
  {
   "cell_type": "code",
   "execution_count": 19,
   "metadata": {},
   "outputs": [],
   "source": [
    "seed=0\n",
    "nTrain = int(D.shape[1]*2.0/3.0)\n",
    "np.random.seed(seed)\n",
    "idx = np.random.permutation(D.shape[1])\n",
    "\n",
    "idxTrain = idx[0:nTrain]\n",
    "idxTest = idx[nTrain:]\n",
    "\n",
    "# DTR and LTR are training data and labels\n",
    "DTR = D[:, idxTrain]\n",
    "LTR = L[idxTrain]\n",
    "# DTE and LTE are evaluation data and labels\n",
    "DTE = D[:, idxTest]\n",
    "LTE = L[idxTest]"
   ]
  },
  {
   "attachments": {},
   "cell_type": "markdown",
   "metadata": {},
   "source": [
    "# Multivariate Gaussian Classifier\n",
    "The first model we implement is the Multivariate Gaussian Classifier (MVG). \n",
    "\n",
    "As we have seen, the classifier assumes that samples of each class c ∈ {0,1,2} can be modeled as samples of a multivariate Gaussian distribution with class-dependent mean and covariance matrices :\n",
    "\n",
    "$$ f_{X|C}=N(x|\\mu _c,\\Sigma_c) $$\n",
    "The ML solution for the parameters is given by the empirical mean and covariance matrix of each class:\n",
    "$$ \\mu^{*} _c=\\frac{1}{N}\\sum_i{x_i} $$ \n",
    "$$ C^{*}_c=\\frac{1}{N_c}\\sum_i{(x_{c,i}-\\mu^{*}_{c})(x_{c,i}-\\mu^{*}_{c})^T} $$"
   ]
  },
  {
   "attachments": {},
   "cell_type": "markdown",
   "metadata": {},
   "source": [
    "Compute the ML estimates for the classifier parameters $(μ_0,Σ_0)$,$(μ_1,Σ_1)$,$(μ_2,Σ_2)$:"
   ]
  },
  {
   "cell_type": "code",
   "execution_count": null,
   "metadata": {},
   "outputs": [],
   "source": []
  }
 ],
 "metadata": {
  "kernelspec": {
   "display_name": ".envMLPR",
   "language": "python",
   "name": "python3"
  },
  "language_info": {
   "codemirror_mode": {
    "name": "ipython",
    "version": 3
   },
   "file_extension": ".py",
   "mimetype": "text/x-python",
   "name": "python",
   "nbconvert_exporter": "python",
   "pygments_lexer": "ipython3",
   "version": "3.10.6"
  },
  "orig_nbformat": 4
 },
 "nbformat": 4,
 "nbformat_minor": 2
}
